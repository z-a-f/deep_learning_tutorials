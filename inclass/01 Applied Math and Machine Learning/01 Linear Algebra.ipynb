{
 "cells": [
  {
   "cell_type": "code",
   "execution_count": 1,
   "id": "8345d0b9",
   "metadata": {},
   "outputs": [],
   "source": [
    "import numpy as np"
   ]
  },
  {
   "cell_type": "markdown",
   "id": "ad433021",
   "metadata": {},
   "source": [
    "In this chapter we will look into the very basic knowledge you must have to understnad the deep learning. In addition to the explanations and general notation, we will go through basics of programmatic use of the linear algebra using `numpy`."
   ]
  },
  {
   "cell_type": "markdown",
   "id": "65ff8a03",
   "metadata": {},
   "source": [
    "# 1. Scalars, Vectors, Matrices, and Tensors"
   ]
  },
  {
   "cell_type": "markdown",
   "id": "ca3ea741",
   "metadata": {},
   "source": [
    "## Scalars\n",
    "\n",
    "Just a single number. This is usually denoted as a lower-case variable:\n",
    "\n",
    "$$\n",
    "\\begin{align}\n",
    "s &\\in \\mathbb{R} \\\\\n",
    "n &\\in \\mathbb{N}^+ \\\\\n",
    "x &\\leftarrow 42 \\\\\n",
    "y &= -24\n",
    "\\end{align}\n",
    "$$"
   ]
  },
  {
   "cell_type": "code",
   "execution_count": 2,
   "id": "e372d4cc",
   "metadata": {},
   "outputs": [],
   "source": [
    "# Scalars\n",
    "s = -3.14\n",
    "n = 314\n",
    "x = 42\n",
    "y = -24"
   ]
  },
  {
   "cell_type": "markdown",
   "id": "0012d5b4",
   "metadata": {},
   "source": [
    "## Vectors\n",
    "\n",
    "Vectors represent an array of numbers either in a row or a column.\n",
    "To represent a vector in text we interchangeably use **bold** text (${\\bf x}$), overbar ($\\bar{x}$), or simply as just a variable ($x$) -- if the context is clearly talking about the vectors.\n",
    "Individual elements in a vector can be referred to by an index, usually denoted by a lower-case letter.\n",
    "\n",
    "Because vectors usually have a 1D length $n$, to denote the number set of a vector we write\n",
    "$$\n",
    "{\\bf x} \\in \\mathbb{R}^{n}\n",
    "$$\n",
    "\n",
    "Column vector of size $n$:\n",
    "$$\n",
    "{\\bf x} =\n",
    "\\begin{bmatrix}\n",
    "x_1 \\\\\n",
    "x_2 \\\\\n",
    "\\vdots \\\\\n",
    "x_n\n",
    "\\end{bmatrix}\n",
    "$$\n",
    "\n",
    "Row vector of size $n$:\n",
    "$$\n",
    "{\\bf x} =\n",
    "\\begin{bmatrix}\n",
    "x_1 & x_2 & \\cdots & x_n\n",
    "\\end{bmatrix}\n",
    "$$\n",
    "\n",
    "Notice that we refer to the individual elements using $x_i$ notation. You can also refer to a subset of elements using a list / set of elements:\n",
    "\n",
    "$$\n",
    "\\begin{align}\n",
    "&S = \\{1, 2, 3\\} \\\\\n",
    "&{\\bf x}_S \\leftarrow \\text{Subset of x}\n",
    "\\end{align}\n",
    "$$\n",
    "\n",
    "**Note:** Following mathematical notation, we will use negative indexing when referring \"exclusion\" of the element. This is unline in Python, where negative indexing refers to the reversed indexing (from the end).\n",
    "\n",
    "$$\n",
    "\\begin{align}\n",
    "x_{-1} &\\leftarrow \\text{All elements in x, except index 1} \\\\\n",
    "x_{-S} &\\leftarrow \\text{All elements in x, except the index subset }S \\\\\n",
    "\\end{align}\n",
    "$$"
   ]
  },
  {
   "cell_type": "code",
   "execution_count": 3,
   "id": "37d6a9f9",
   "metadata": {},
   "outputs": [
    {
     "data": {
      "text/plain": [
       "10"
      ]
     },
     "execution_count": 3,
     "metadata": {},
     "output_type": "execute_result"
    }
   ],
   "source": [
    "# Vectors\n",
    "row_vector = np.array([1, 2, -1, -2, 4, 3, 10])\n",
    "column_vector = np.array([\n",
    "    [1],\n",
    "    [2],\n",
    "    [-1],\n",
    "    [-2],\n",
    "    [4],\n",
    "    [3],\n",
    "    [10]\n",
    "])\n",
    "\n",
    "row_vector[2]        # The third element in the row vector\n",
    "column_vector[2, 0]  # The third element in the column vector\n",
    "\n",
    "row_vector[-1]       # The first element from the end of the row vector"
   ]
  },
  {
   "cell_type": "markdown",
   "id": "fe7316f2",
   "metadata": {},
   "source": [
    "## Matrices\n",
    "\n",
    "Matrix is a 2D representation of the data.\n",
    "We will usually use capital letters to represent a matrix ($A$).\n",
    "Matrices have 2 dimensions $m$ and $n$ that represent rows and columns (height and width).\n",
    "Thus we say\n",
    "\n",
    "$$\n",
    "A \\in \\mathbb{R}^{m\\times n}\n",
    "$$\n",
    "\n",
    "Because individual elements of a matrix are referred to as $a_{i,j}$ (or $A_{i,j}$), we can write a matrix of size $m$ by $n$:\n",
    "\n",
    "$$\n",
    "A = \n",
    "\\begin{bmatrix}\n",
    "a_{11} & a_{12} & \\cdots & a_{1n} \\\\\n",
    "a_{21} & a_{22} & \\cdots & a_{2n} \\\\\n",
    "\\vdots & \\vdots & \\ddots & \\vdots \\\\\n",
    "a_{m1} & a_{m2} & \\cdots & a_{mn} \\\\\n",
    "\\end{bmatrix}\n",
    "$$\n",
    "\n",
    "We can also refer to the individual rows using $A_{i,:}$ and columns $A_{:,j}$.\n",
    "\n",
    "Sometimes we need to split a matrix into submatrices, in which case, we can have the following notation:\n",
    "\n",
    "$$\n",
    "A = \n",
    "\\begin{bmatrix}\n",
    "A_{1,1} & A_{1, 2} \\\\\n",
    "A_{2,1} & A_{2, 2}\n",
    "\\end{bmatrix}\n",
    "$$\n",
    "\n",
    "which shows matrix $A$ that consists of four submatrices $A_{1, 1}, \\dots, A_{2, 2}$"
   ]
  },
  {
   "cell_type": "code",
   "execution_count": 4,
   "id": "ba140300",
   "metadata": {},
   "outputs": [],
   "source": [
    "A = np.array([\n",
    "    [1, 2, 3, -1],\n",
    "    [4, 10, 5, 6],\n",
    "    [3, 4, 3, 4]\n",
    "])"
   ]
  },
  {
   "cell_type": "markdown",
   "id": "b94faa4a",
   "metadata": {},
   "source": [
    "## Tensors\n",
    "\n",
    "Tensor is a generalized version of a number container in mathematics.\n",
    "It is \"like\" a matrix, but can have an arbitrary number of dimensions (axes).\n",
    "In fact, here is a relationship between a tensor and other data types we described earlier:\n",
    "\n",
    "- 0D Tensor = Scalar\n",
    "- 1D Tensor = Vector / Array: Shapes can be written as $(1\\times m)$ for row-vector or $(m \\times 1)$ for column vector\n",
    "- 2D Tensor = Matrix\n",
    "\n",
    "Although we will use the matrix notation for tensors, in the places where distinction between matrices and tensors is important we will use **bold-face** to show the tensors\n",
    "\n",
    "$$\n",
    "\\begin{align}\n",
    "X & \\leftarrow\\text{This is a matrix} \\\\\n",
    "{\\bf X} & \\leftarrow\\text{This is a tensor}\n",
    "\\end{align}\n",
    "$$\n",
    "\n",
    "However, most of the time it won't matter if the discussion is about matrices or tensors..."
   ]
  },
  {
   "cell_type": "markdown",
   "id": "8afa7a1b",
   "metadata": {},
   "source": [
    "### Transpose\n",
    "\n",
    "The first operation we will cover is the **transpose**. Formally, this operation is only allowed for a matrix (2D tensor). Transpose is denoted using a capital $T$ superscript, and is defined as follows:\n",
    "\n",
    "$$\n",
    "\\left(A^T\\right)_{i, j} = A_{j, i}\n",
    "$$\n",
    "\n",
    "which can be interpreted as the rows and columns are flipped. For example:\n",
    "\n",
    "$$\n",
    "\\begin{align}\n",
    "A &=\n",
    "\\begin{bmatrix}\n",
    "1 & 2 \\\\\n",
    "5 & 4 \\\\\n",
    "3 & 6\n",
    "\\end{bmatrix}\n",
    "\\\\\n",
    "\\Rightarrow\n",
    "A^T &=\n",
    "\\begin{bmatrix}\n",
    "1 & 5 & 3 \\\\\n",
    "2 & 4 & 6\n",
    "\\end{bmatrix}\n",
    "\\end{align}\n",
    "$$\n",
    "\n",
    "**Note 1:** Transposing a transposed matrix returns us back to the original matrix: $\\left(A^T\\right)^T = A$.\n",
    "\n",
    "We mentioned that formally transpose should be applied to a matrix only. However, in this setting we will extend the definition as \"transpose swaps two last axes, unless specified otherwise\".\n",
    "That means that a tensor of shape $(m_1 \\times m_2 \\times \\dots \\times m_{n-2} \\times m_{n-1} \\times m_n)$ will be transposed into $(m_1 \\times m_2 \\times \\dots \\times m_{n-2} \\times m_n \\times m_{n-1})$.\n",
    "\n",
    "**Note 2:** Transposing a row vector converts it to a column vector and vice-versa\n",
    "\n",
    "This is not a formal way of transposition, but very useful in the context of deep learning.\n",
    "By default we will imply that the last two axes are being transposed.\n",
    "However, when needed we will explicitly specify the axes of transposition using a superscript $T_{k, l}$ to denote transposition of axes $k$ and $l$ (i.e. ${\\bf A}^{T_{1, 2}}$)."
   ]
  },
  {
   "cell_type": "code",
   "execution_count": 5,
   "id": "a1883930",
   "metadata": {},
   "outputs": [
    {
     "data": {
      "text/plain": [
       "torch.Size([4, 3, 2])"
      ]
     },
     "execution_count": 5,
     "metadata": {},
     "output_type": "execute_result"
    }
   ],
   "source": [
    "import torch\n",
    "x = torch.ones(2, 3, 4)\n",
    "x.transpose(0, 2).shape"
   ]
  },
  {
   "cell_type": "markdown",
   "id": "d045310d",
   "metadata": {},
   "source": [
    "# 2. Multiplying Tensors\n",
    "\n",
    "**_Don't confuse it with the \"tensor product\"_**\n",
    "\n",
    "Multiplying tensors is also a construct that is not formally defined.\n",
    "We will extend the matrix multiplication to the tensors.\n",
    "\n",
    "**Matrix multiplication** is formally defined as\n",
    "\n",
    "$$\n",
    "\\begin{align}\n",
    "C &= AB \\\\\n",
    "C_{i,j} &= \\sum_kA_{i,k}B_{k,j}, & \\forall{i, j}\n",
    "\\end{align}\n",
    "$$\n",
    "\n",
    "For example\n",
    "\n",
    "$$\n",
    "\\begin{align}\n",
    "C &=\n",
    "\\begin{bmatrix}\n",
    "1 & 5 & 3 \\\\\n",
    "2 & 4 & 6\n",
    "\\end{bmatrix}\n",
    "\\begin{bmatrix}\n",
    "3 & 5 \\\\\n",
    "7 & 11 \\\\\n",
    "13 & 17\n",
    "\\end{bmatrix} \\\\\n",
    "&=\n",
    "\\begin{bmatrix}\n",
    "1 \\cdot 3 + 5 \\cdot 7 + 3 \\cdot 13 & 1 \\cdot 5 + 5 \\cdot 11 + 3 \\cdot 17 \\\\\n",
    "2 \\cdot 3 + 4 \\cdot 7 + 6 \\cdot 13 & 2 \\cdot 5 + 4 \\cdot 11 + 6 \\cdot 17\n",
    "\\end{bmatrix} \\\\\n",
    "&=\n",
    "\\begin{bmatrix}\n",
    "77 & 111 \\\\\n",
    "112 & 156\n",
    "\\end{bmatrix}\n",
    "\\end{align}\n",
    "$$\n",
    "\n",
    "Generalizing this definition, we can define a tensor multiplication as\n",
    "\n",
    "$$\n",
    "\\begin{align}\n",
    "{\\bf C} &= {\\bf AB} \\\\\n",
    "C_{i_1,\\cdots,i_m, j_1, \\cdots j_n} &= \\sum_k A_{i_1, \\cdots, i_{m}, k} B_{j_1, \\cdots, j_{n-1}, k, j_n}, & \\forall{i_1,\\cdots,i_m, j_1, \\cdots, j_n}\n",
    "\\end{align}\n",
    "$$\n",
    "\n",
    "which means that we iterate over the last axis of the first matrix and the second to last axis of the second matrix.\n",
    "Although not important in the current discussion, the notion of tensor dot product (sum product) is commonly used in the deep learning."
   ]
  },
  {
   "cell_type": "code",
   "execution_count": 6,
   "id": "dd5f236c",
   "metadata": {},
   "outputs": [
    {
     "name": "stdout",
     "output_type": "stream",
     "text": [
      "[[ 77 111]\n",
      " [112 156]]\n"
     ]
    }
   ],
   "source": [
    "A = np.array([\n",
    "    [1, 5, 3],\n",
    "    [2, 4, 6]\n",
    "])\n",
    "B = np.array([\n",
    "    [3, 5],\n",
    "    [7, 11],\n",
    "    [13, 17]\n",
    "])\n",
    "\n",
    "C = np.dot(A, B)\n",
    "print(C)"
   ]
  },
  {
   "cell_type": "code",
   "execution_count": 7,
   "id": "a3bba79c",
   "metadata": {},
   "outputs": [
    {
     "name": "stdout",
     "output_type": "stream",
     "text": [
      "(3, 5, 7, 9, 11, 13, 15)\n"
     ]
    }
   ],
   "source": [
    "k = 2\n",
    "A = np.ones((3, 5, 7, k))\n",
    "B = np.ones((9, 11, 13, k, 15))\n",
    "C = np.dot(A, B)\n",
    "\n",
    "print(C.shape)"
   ]
  },
  {
   "cell_type": "markdown",
   "id": "6ec240ca",
   "metadata": {},
   "source": [
    "Another type of multiplication is the **Hadamard product**, which defines **element-wise** multiplication.\n",
    "In case of the element-wise operations, one criterion is that both matrices must be of the same shape/dimensionality.\n",
    "\n",
    "\\begin{align}\n",
    "{\\bf C} &= {\\bf A \\odot B} \\\\\n",
    "c_{i,j} &= a_{i,j}\\cdot b_{i,j}, & \\forall{i, j}\n",
    "\\end{align}\n",
    "\n",
    "In fact we can define an arbitrary \"**Hadamard operation**\" $\\star$, which would apply the operation $\\star$ element-wise:\n",
    "\n",
    "\\begin{align}\n",
    "{\\bf C} &= {\\bf A \\star B} \\\\\n",
    "c_{i,j} &= a_{i,j}\\star b_{i,j}, & \\forall{i, j}\n",
    "\\end{align}"
   ]
  },
  {
   "cell_type": "code",
   "execution_count": 8,
   "id": "8c0f3a54",
   "metadata": {},
   "outputs": [
    {
     "name": "stdout",
     "output_type": "stream",
     "text": [
      "[[  3  35  39]\n",
      " [ 10  44 102]]\n"
     ]
    }
   ],
   "source": [
    "A = np.array([\n",
    "    [1, 5, 3],\n",
    "    [2, 4, 6]\n",
    "])\n",
    "B = np.array([\n",
    "    [3, 7, 13],\n",
    "    [5, 11, 17]\n",
    "])\n",
    "\n",
    "C_hadamard = A * B\n",
    "print(C_hadamard)"
   ]
  },
  {
   "cell_type": "markdown",
   "id": "9285dc1c",
   "metadata": {},
   "source": [
    "**Properties:**\n",
    "- Matrix/Tensor Multiplication is Distributive\n",
    "\n",
    "$$\n",
    "A\\left(B + C\\right) = AB + AC\n",
    "$$\n",
    "\n",
    "- Matrix/Tensor Multiplication is Associative\n",
    "\n",
    "$$\n",
    "A\\left(BC\\right) = \\left(AB\\right)C\n",
    "$$\n",
    "\n",
    "- Vector Multiplications is Commutative\n",
    "\n",
    "$$\n",
    "x^Ty = y^T x\n",
    "$$\n",
    "\n",
    "- Matrix/Tensor Multiplication is **NOT** Commutative\n",
    "\n",
    "$$\n",
    "AB \\ne BA\n",
    "$$\n",
    "\n",
    "- Transpose of a Multiplication is equivalent to a Commuted Multiplication of Transposes\n",
    "\n",
    "$$\n",
    "(AB)^T = B^TA^T\n",
    "$$"
   ]
  },
  {
   "cell_type": "markdown",
   "id": "23c099df",
   "metadata": {},
   "source": [
    "# 3. Linear Equations\n",
    "\n",
    "A linear equation is an equation of the following form:\n",
    "\n",
    "$$\n",
    "a_{1}x_1 + a_{2}x_2 + \\dots + a_{n}x_n = b \\\\\n",
    "$$\n",
    "\n",
    "which can be rewritten as vector dot product:\n",
    "\n",
    "$$\n",
    "\\begin{align}\n",
    "{\\bf ax}^T &= b \\\\\n",
    "\\text{where} \\\\\n",
    "{\\bf a} &= \\begin{bmatrix}a_1 & a_2 &\\cdots & a_n\\end{bmatrix} \\\\\n",
    "{\\bf x} &= \\begin{bmatrix}x_1 & x_2 &\\cdots & x_n\\end{bmatrix} \\\\\n",
    "b &\\leftarrow \\text{scalar}\n",
    "\\end{align}\n",
    "$$\n",
    "\n",
    "We can also write a system of linear equations, that describe a relationship between some input $\\bf x$ and some output $\\bf b$.\n",
    "\n",
    "$$\n",
    "\\begin{cases}\n",
    "a_{11}x_1 + a_{12}x_2 + \\dots + a_{1n}x_n = b_1 \\\\\n",
    "a_{21}x_1 + a_{22}x_2 + \\dots + a_{2n}x_n = b_2 \\\\\n",
    "\\cdots \\\\\n",
    "a_{m1}x_1 + a_{m2}x_2 + \\dots + a_{mn}x_n = b_m \\\\\n",
    "\\end{cases}\n",
    "$$\n",
    "\n",
    "or writing as a tensor-vector sum product:\n",
    "\n",
    "$$\n",
    "\\begin{align}\n",
    "Ax &= b \\\\\n",
    "\\Rightarrow\n",
    "\\begin{bmatrix}\n",
    "a_{11} & a_{12} & \\cdots & a_{1n} \\\\\n",
    "a_{21} & a_{22} & \\cdots & a_{2n} \\\\\n",
    "\\vdots & \\vdots & \\ddots & \\vdots \\\\\n",
    "a_{m1} & a_{m2} & \\cdots & a_{mn} \\\\\n",
    "\\end{bmatrix}\n",
    "\\begin{bmatrix}\n",
    "x_1 \\\\\n",
    "x_2 \\\\\n",
    "\\vdots \\\\\n",
    "x_n\n",
    "\\end{bmatrix}\n",
    "&=\n",
    "\\begin{bmatrix}\n",
    "b_1 \\\\\n",
    "b_2 \\\\\n",
    "\\vdots \\\\\n",
    "b_m\n",
    "\\end{bmatrix}\n",
    "\\end{align}\n",
    "$$"
   ]
  },
  {
   "cell_type": "code",
   "execution_count": 9,
   "id": "96ab7b45",
   "metadata": {},
   "outputs": [
    {
     "name": "stdout",
     "output_type": "stream",
     "text": [
      "A @ x = array([[77],\n",
      "       [71],\n",
      "       [86],\n",
      "       [90]])\n",
      "b = array([[77],\n",
      "       [71],\n",
      "       [86],\n",
      "       [90]])\n"
     ]
    }
   ],
   "source": [
    "A = np.array([\n",
    "    [1, 3, 4, 7],\n",
    "    [1, 3, 4, 6],\n",
    "    [4, 4, 2, 8],\n",
    "    [7, 1, 7, 5]\n",
    "])\n",
    "x = np.array([\n",
    "    [3],\n",
    "    [4],\n",
    "    [5],\n",
    "    [6]\n",
    "])\n",
    "\n",
    "b = np.array([\n",
    "    [77],\n",
    "    [71],\n",
    "    [86],\n",
    "    [90]\n",
    "])\n",
    "\n",
    "print(f'{A @ x = }')\n",
    "print(f'{b = }')"
   ]
  },
  {
   "cell_type": "markdown",
   "id": "2fbabf85",
   "metadata": {},
   "source": [
    "## Identity and Inverse Matrices\n",
    "\n",
    "Notice that we defined the matrix multiplication, but not the division.\n",
    "That's because division is not defined for the matrices*.\n",
    "So how do we solve the following equation?\n",
    "\n",
    "$$\n",
    "\\begin{align}\n",
    "Ax &= b \\\\\n",
    "x &= \\frac{b}{A} \\leftarrow \\text{This is NOT defined}\n",
    "\\end{align}\n",
    "$$\n",
    "\n",
    ".* Depending on the shape, division could be defined for the tensors.\n",
    "\n",
    "To solve the equation above, we need to define the **matrix inversion**.\n",
    "Matrix inversion is a process of finding such a matrix $X^{-1}$, that when multiplied by $X$ produces an **identitiy matrix**:\n",
    "\n",
    "$$\n",
    "\\begin{align}\n",
    "{\\bf X}{\\bf X}^{-1} &= {\\bf\\it I},\n",
    "\\text{ where}& \\\\\n",
    "{\\bf\\it I} &= \\begin{bmatrix}\n",
    "1 & 0 & 0 & \\dots & 0 \\\\\n",
    "0 & 1 & 0 & \\dots & 0 \\\\\n",
    "0 & 0 & 1 & \\dots & 0 \\\\\n",
    "\\vdots & \\vdots & \\vdots & \\ddots & \\vdots \\\\\n",
    "0 & 0 & 0 & \\dots & 1 \\\\\n",
    "\\end{bmatrix}\n",
    "\\end{align}\n",
    "$$\n",
    "\n",
    "Identity matrix is a matrix that has zeros everywhere, except the main diagonal, which is all ones.\n",
    "Such a matrix multiplied by any vector/matrix/tensor $x$ will produce $x$:\n",
    "\n",
    "$$\n",
    "\\forall x \\in \\mathbb{R}, {\\bf\\it I}_nx=x\n",
    "$$"
   ]
  },
  {
   "cell_type": "code",
   "execution_count": 10,
   "id": "db46285c",
   "metadata": {},
   "outputs": [
    {
     "name": "stdout",
     "output_type": "stream",
     "text": [
      "I @ x = array([[3.],\n",
      "       [4.],\n",
      "       [5.],\n",
      "       [6.]])\n"
     ]
    }
   ],
   "source": [
    "x = np.array([\n",
    "    [3],\n",
    "    [4],\n",
    "    [5],\n",
    "    [6]\n",
    "])\n",
    "\n",
    "n = len(x)\n",
    "\n",
    "I = np.eye(n)\n",
    "\n",
    "print(f'{I @ x = }')"
   ]
  },
  {
   "cell_type": "markdown",
   "id": "cce80327",
   "metadata": {},
   "source": [
    "Given the equation $Ax=b$, we can solve for x by multiplying both sides of the equation by the inverse of $A$:\n",
    "\n",
    "$$\n",
    "\\begin{align}\n",
    "Ax &= b \\\\\n",
    "\\Rightarrow\n",
    "A^{-1}Ax &= A^{-1}b \\\\\n",
    "{\\bf\\it I}_nx &= A^{-1}b \\\\\n",
    "x &= A^{-1}b\n",
    "\\end{align}\n",
    "$$"
   ]
  },
  {
   "cell_type": "markdown",
   "id": "4ad979ff",
   "metadata": {},
   "source": [
    "In NumPy you can use `numpy.linalg.inv` to find the inverse of a square (invertible) matrix."
   ]
  },
  {
   "cell_type": "code",
   "execution_count": 11,
   "id": "82a0a173",
   "metadata": {},
   "outputs": [
    {
     "name": "stdout",
     "output_type": "stream",
     "text": [
      "A @ A^-1 = [[ 1.00000000e+00 -8.88178420e-16 -1.11022302e-16  5.55111512e-17]\n",
      " [ 0.00000000e+00  1.00000000e+00 -1.11022302e-16  5.55111512e-17]\n",
      " [ 0.00000000e+00  0.00000000e+00  1.00000000e+00  5.55111512e-17]\n",
      " [ 0.00000000e+00  0.00000000e+00  0.00000000e+00  1.00000000e+00]]\n",
      "A^-1 @ b = [[3.]\n",
      " [4.]\n",
      " [5.]\n",
      " [6.]]\n",
      "x = array([[3],\n",
      "       [4],\n",
      "       [5],\n",
      "       [6]])\n"
     ]
    }
   ],
   "source": [
    "A = np.array([\n",
    "    [1, 3, 4, 7],\n",
    "    [1, 3, 4, 6],\n",
    "    [4, 4, 2, 8],\n",
    "    [7, 1, 7, 5]\n",
    "])\n",
    "\n",
    "b = np.array([\n",
    "    [77],\n",
    "    [71],\n",
    "    [86],\n",
    "    [90]\n",
    "])\n",
    "\n",
    "A_inverse = np.linalg.inv(A)\n",
    "\n",
    "print(f'A @ A^-1 = {A @ A_inverse}')\n",
    "print(f'A^-1 @ b = {A_inverse @ b}')\n",
    "print(f'{x = }')"
   ]
  },
  {
   "cell_type": "markdown",
   "id": "26d9a9f6",
   "metadata": {},
   "source": [
    "## Pseudo-Inverse"
   ]
  },
  {
   "cell_type": "markdown",
   "id": "8543c5c0",
   "metadata": {},
   "source": [
    "Not all matrices have an inverse however. For example, a matrix could be non-square, or its determinant could be equal to zero. In that cases, we can use an equation that finds the closes possible solution instead of exact one:"
   ]
  },
  {
   "cell_type": "code",
   "execution_count": 12,
   "id": "6d375408",
   "metadata": {},
   "outputs": [
    {
     "name": "stdout",
     "output_type": "stream",
     "text": [
      "A @ A^-1 = [[ 1.00000000e+00 -8.88178420e-16 -5.41233725e-16]\n",
      " [ 0.00000000e+00  1.00000000e+00 -1.94289029e-16]\n",
      " [ 1.77635684e-15  0.00000000e+00  1.00000000e+00]]\n",
      "A^-1 @ b = [[2.61111111]\n",
      " [4.54444444]\n",
      " [4.68888889]\n",
      " [6.        ]]\n",
      "x = array([[3],\n",
      "       [4],\n",
      "       [5],\n",
      "       [6]])\n"
     ]
    }
   ],
   "source": [
    "A = np.array([\n",
    "    [1, 3, 4, 7],\n",
    "    [1, 3, 4, 6],\n",
    "    [4, 4, 2, 8],\n",
    "])\n",
    "\n",
    "b = np.array([\n",
    "    [77],\n",
    "    [71],\n",
    "    [86],\n",
    "])\n",
    "\n",
    "A_inverse = np.linalg.pinv(A)\n",
    "\n",
    "print(f'A @ A^-1 = {A @ A_inverse}')\n",
    "print(f'A^-1 @ b = {A_inverse @ b}')\n",
    "print(f'{x = }')"
   ]
  },
  {
   "cell_type": "markdown",
   "id": "31b201c6",
   "metadata": {},
   "source": [
    "Notice above that the A multiplied by its inverse creates an identity matrix, but solution A^-1 @ b does not match the real x value.\n",
    "But, the solutions are close (kinda).\n",
    "\n",
    "The `np.linalg.pinv` performs the following operation:\n",
    "\n",
    "$$\n",
    "\\begin{align}\n",
    "A^{-1} &\\approx\n",
    "\\begin{cases}\n",
    "A^T \\left(AA^T\\right)^{-1} & \\text{if } A \\text{ has linearly independent rows} \\\\\n",
    "\\left(A^TA\\right)^{-1} A^T & \\text{if } A \\text{ has linearly independent columns}\n",
    "\\end{cases}\n",
    "\\end{align}\n",
    "$$\n",
    "\n",
    "If $A$ has both linearly independent rows and columns, the pseudo-inverse will be equal to the inverse."
   ]
  },
  {
   "cell_type": "code",
   "execution_count": 13,
   "id": "186bac33",
   "metadata": {},
   "outputs": [
    {
     "data": {
      "text/plain": [
       "array([[-1.11022302e-15, -1.11022302e-16,  6.10622664e-16,\n",
       "         4.21884749e-15],\n",
       "       [-2.22044605e-15, -1.11022302e-16,  2.38697950e-15,\n",
       "         1.13242749e-14],\n",
       "       [-2.22044605e-15,  4.44089210e-16,  3.55271368e-15,\n",
       "         1.06581410e-14],\n",
       "       [ 1.49880108e-15, -4.99600361e-16, -3.13638004e-15,\n",
       "        -1.07691633e-14]])"
      ]
     },
     "execution_count": 13,
     "metadata": {},
     "output_type": "execute_result"
    }
   ],
   "source": [
    "# A_manual_inverse = np.linalg.inv(A.T @ A) @ A.T\n",
    "A_manual_inverse = A.T @ np.linalg.inv(A @ A.T)\n",
    "I_manual = A_manual_inverse @ A\n",
    "I_numpy = A_inverse @ A\n",
    "\n",
    "I_numpy - I_manual"
   ]
  },
  {
   "cell_type": "markdown",
   "id": "427ba606",
   "metadata": {},
   "source": [
    "### Linear Dependence\n",
    "\n",
    "The rows and columns of a matrix could be linearly dependent / independent. The linear dependence is a property between two or more rows / columns such that one of those can be formed from another using a linear transformation:\n",
    "\n",
    "$$\n",
    "z = \\alpha x + \\beta y\n",
    "$$\n",
    "\n",
    "where $x, y, z$ are the rows/columns, while $\\alpha, \\beta$ are arbitrary values.\n",
    "\n",
    "For example,\n",
    "\n",
    "$$\n",
    "A = \\begin{bmatrix}\n",
    "1 & 2 & 4  \\\\\n",
    "2 & 3 & 7  \\\\\n",
    "3 & 7 & 13 \\\\\n",
    "\\end{bmatrix}\n",
    "$$\n",
    "\n",
    "has linearly dependent columns, because we can form the third column by combining the first two:\n",
    "\n",
    "$$\n",
    "2\n",
    "\\begin{bmatrix}\n",
    "1 \\\\\n",
    "2 \\\\\n",
    "3\n",
    "\\end{bmatrix}\n",
    "+\n",
    "\\begin{bmatrix}\n",
    "2 \\\\\n",
    "3 \\\\\n",
    "7\n",
    "\\end{bmatrix}\n",
    "=\n",
    "\\begin{bmatrix}\n",
    "4 \\\\\n",
    "7 \\\\\n",
    "13\n",
    "\\end{bmatrix}\n",
    "$$\n",
    "\n",
    "**Linearly dependent matrices are not invertible**"
   ]
  },
  {
   "cell_type": "markdown",
   "id": "6f3ec24a",
   "metadata": {},
   "source": [
    "# 4. Norms\n",
    "\n",
    "Sometimes you might need to find a measurement of a tensor.\n",
    "The size of a tensor is usually referred to as a **norm**.\n",
    "There are many different types of a norm, and formally, they are given as\n",
    "\n",
    "$$\n",
    "||x||_p = \\left(\\sum_i|x_i|^p\\right)^\\frac{1}{p} \\\\\n",
    "\\text{for } p\\in\\mathbb{R}, p\\ge 1\n",
    "$$\n",
    "\n",
    "However, we can extend the definition of the norm to a more generic form as any function $f$, such that\n",
    "\n",
    "1. $f(x) = 0 \\Rightarrow x = 0$\n",
    "1. $f(x+y) \\le f(x) + f(y)$\n",
    "1. $\\forall\\alpha \\in \\mathbb{R}, f(\\alpha x) = |\\alpha|f(x)$"
   ]
  },
  {
   "cell_type": "code",
   "execution_count": 14,
   "id": "309d6ee2",
   "metadata": {},
   "outputs": [],
   "source": [
    "def norm_p(x, p):\n",
    "    x_abs = np.abs(x)\n",
    "    x_p = np.power(x_abs, p)\n",
    "    x_sum = np.sum(x_p)\n",
    "    x_norm = np.power(x_sum, 1.0 / p)\n",
    "    return x_norm\n"
   ]
  },
  {
   "cell_type": "code",
   "execution_count": 15,
   "id": "b3ca69ee",
   "metadata": {},
   "outputs": [
    {
     "data": {
      "text/plain": [
       "0.0"
      ]
     },
     "execution_count": 15,
     "metadata": {},
     "output_type": "execute_result"
    }
   ],
   "source": [
    "A = np.array([\n",
    "    [1, 3, 4, 7],\n",
    "    [1, 3, 4, 6],\n",
    "    [4, 4, 2, 8],\n",
    "])\n",
    "\n",
    "norm_numpy = np.linalg.norm(A, 'fro')\n",
    "norm_manual = norm_p(A, 2)\n",
    "\n",
    "norm_numpy - norm_manual"
   ]
  },
  {
   "cell_type": "markdown",
   "id": "cde24eda",
   "metadata": {},
   "source": [
    "Depending on the requirements, different norms achieve different results. For example, 2nd order norm (Frobenius norm) computes the length of the vector described by the vector/matrix/tensor.\n",
    "\n",
    "We can visualize the behavior of the norms on a 2d plane by solving an equation for a known  values that form the norm of length 1.0:"
   ]
  },
  {
   "cell_type": "code",
   "execution_count": 16,
   "id": "b52c437d",
   "metadata": {},
   "outputs": [
    {
     "data": {
      "text/plain": [
       "<matplotlib.legend.Legend at 0x7f4f7ff43970>"
      ]
     },
     "execution_count": 16,
     "metadata": {},
     "output_type": "execute_result"
    },
    {
     "data": {
      "image/png": "[encoded data removed]",
      "text/plain": [
       "<Figure size 500x500 with 1 Axes>"
      ]
     },
     "metadata": {},
     "output_type": "display_data"
    }
   ],
   "source": [
    "import matplotlib.pyplot as plt\n",
    "\n",
    "x = np.arange(0.0, 1.01, 0.01)\n",
    "\n",
    "\n",
    "plt.figure(figsize=(5, 5))\n",
    "\n",
    "for p in [0.5, 1, 2, 3]:\n",
    "    y = np.power((1.0 - np.power(x, p)), 1.0 / p)\n",
    "    xx = np.concatenate([x, -x, x, -x])\n",
    "    yy = np.concatenate([y, y, -y, -y])\n",
    "\n",
    "    plt.plot(xx, yy, label=f'$l_{{{p}}}$')\n",
    "    \n",
    "plt.legend()"
   ]
  },
  {
   "cell_type": "markdown",
   "id": "6917c911",
   "metadata": {},
   "source": [
    "The visualization above shows the norm of a two dimensional vector.\n",
    "It shows that for any given two dimensions, two values can form a norm=1.0 only if they sit  on very appropriate distances from the origin."
   ]
  },
  {
   "cell_type": "markdown",
   "id": "6a791325",
   "metadata": {},
   "source": [
    "# 5. Decomposition\n",
    "\n",
    "Many mathematical objects can be decomposed into their basic building blocks. For example, any integer can be decomposed into a product of prime numbers. For example, number 12 can written as $12 = 2 \\times 2 \\times 3$, which tells us that this number can only be divided by those numbers and their products. 12 cannot be divided by 5 or 7 or any other number.\n",
    "\n",
    "Similarly, matrices can be decomposed into its building components. Such breakdown is called **eigendecomposition**, in which you decompose a matrix into a set of eigenvectors and eigenvalues.\n",
    "\n",
    "## Eigenvector and Eigenvalue\n",
    "\n",
    "An **eigenvector** of a *square* matrix $\\pmb A$ is a nonzero vector $\\pmb v$, such that multiplication by $\\pmb A$ alters only the scale of $\\pmb v$:\n",
    "\n",
    "$$\n",
    "{\\pmb Av} = \\lambda {\\pmb v}\n",
    "$$\n",
    "\n",
    "In the example above, $\\lambda$ is a **eigenvalue** corresponding to the eigenvector $\\pmb v$. Note that there is also an equivalent form ${\\pmb v}^T{\\pmb A} = \\lambda {\\pmb v}^T$ (also known as a *left eigenvector*).\n",
    "\n",
    "## Eigendecomposition\n",
    "\n",
    "We can also generalize the equation above by breaking down a given matrix into a set of eigenvectors.\n",
    "Suppose that a matrix $\\pmb A$ has $n$ linearly independent eigenvectors ${\\pmb V} = [{\\pmb v}^{(1)}, \\dots, {\\pmb v}^{(n)}]$ with corresponding eigenvalues ${\\pmb \\lambda} = \\{\\lambda_1, \\dots, \\lambda_n\\}$. The decomposition of $\\pmb A$ can be written as\n",
    "\n",
    "$$\n",
    "{\\pmb A} = {\\pmb V} \\text{diag}({\\pmb \\lambda}) {\\pmb V}^{-1}\n",
    "$$\n",
    "\n",
    "For the sake of discussion, we will consider a very specific class of matrices, that have a simpler decomposition. Specifically, we will consider an example where $\\pmb V$ is an orthogonal matrix, such that ${\\pmb V}^{-1} = {\\pmb V}^T$:\n",
    "\n",
    "$$\n",
    "{\\pmb A} = {\\pmb V} {\\pmb \\Lambda} {\\pmb V}^T\n",
    "$$\n",
    "\n",
    "In that simplification, matrix $A$ has a very specific meaning. It can be interpreted as \"scaling the space by $\\lambda_i$ in the direction of vector $v^{(i)}$.\""
   ]
  },
  {
   "cell_type": "code",
   "execution_count": 43,
   "id": "fcbc1469",
   "metadata": {},
   "outputs": [],
   "source": [
    "# Create a circle that will be transformed\n",
    "theta = np.linspace(0, 2*np.pi, 256)\n",
    "radius = 1.0\n",
    "lambd = np.array([2.0, 0.5]) * np.sqrt(2)\n",
    "\n",
    "x0 = radius * np.cos(theta)\n",
    "x1 = radius * np.sin(theta)\n",
    "X = np.vstack([x0, x1]).T\n",
    "\n",
    "# Create some vectors that will be transformed\n",
    "v1 = np.array([1, 1]) / np.sqrt(2)\n",
    "v2 = np.array([1, -1]) / np.sqrt(2)\n",
    "V = np.vstack([v1, v2])  # No need to transpose\n",
    "\n",
    "# Create transformation matrix A\n",
    "Lambda = np.diag(lambd)\n",
    "A = V @ Lambda @ np.linalg.inv(V)  # Decomposition\n",
    "\n",
    "X_scaled = X @ A\n",
    "V_scaled = V @ A"
   ]
  },
  {
   "cell_type": "code",
   "execution_count": 48,
   "id": "246c44f5",
   "metadata": {
    "scrolled": false
   },
   "outputs": [
    {
     "data": {
      "image/png": "[encoded data removed]",
      "text/plain": [
       "<Figure size 1200x625 with 2 Axes>"
      ]
     },
     "metadata": {},
     "output_type": "display_data"
    }
   ],
   "source": [
    "fig, ax = plt.subplots(1, 2, figsize=(12, 6.25), sharex=True, sharey=True)\n",
    "for a in ax:\n",
    "    a.axis([-3, 3, -3, 3])\n",
    "    a.grid()\n",
    "    \n",
    "## First plot\n",
    "\n",
    "ax[0].set_xlabel('$x_0$')\n",
    "ax[0].set_ylabel('$x_1$')\n",
    "ax[1].set_xlabel('$x_0\\'$')\n",
    "ax[1].set_ylabel('$x_1\\'$')\n",
    "\n",
    "ax[0].plot(X[:, 0], X[:, 1])\n",
    "\n",
    "ax[0].arrow(0, 0, *V[0], width=0.02, length_includes_head=True)\n",
    "ax[0].text(*V[0], '$v^{(1)}$', ha='left', va='bottom')\n",
    "ax[0].arrow(0, 0, *V[1], width=0.02, length_includes_head=True)\n",
    "ax[0].text(*V[1], '$v^{(2)}$', ha='left', va='top')\n",
    "ax[0].set_title(\"Before Multiplying by $A$\")\n",
    "\n",
    "## Second plot\n",
    "\n",
    "ax[1].plot(X_scaled[:, 0], X_scaled[:, 1])\n",
    "\n",
    "ax[1].arrow(0, 0, *V[0], width=0.02, length_includes_head=True)\n",
    "ax[1].text(*V[0], '$v^{(1)}$', ha='left', va='top')\n",
    "ax[1].arrow(0, 0, *V[1], width=0.02, length_includes_head=True)\n",
    "ax[1].text(*V[1], '$v^{(2)}$', ha='left', va='bottom')\n",
    "\n",
    "ax[1].arrow(0, 0, *V_scaled[0], width=0.02, length_includes_head=True)\n",
    "ax[1].text(*V_scaled[0], '$\\lambda_1 v^{(1)}$', ha='left', va='bottom')\n",
    "ax[1].arrow(0, 0, *V_scaled[1], width=0.02, length_includes_head=True)\n",
    "ax[1].text(*V_scaled[1], '$\\lambda_2 v^{(2)}$', ha='right', va='bottom')\n",
    "\n",
    "ax[1].set_title(\"After Multiplying by $A$\")\n",
    "\n",
    "plt.tight_layout()"
   ]
  },
  {
   "cell_type": "markdown",
   "id": "eb0f224f",
   "metadata": {},
   "source": [
    "## Singular Value Decomposition (SVD)\n",
    "\n",
    "Because the eigen value decomposition works for square matrices, we need a tool to generalize it to rectangular matrices. SVD gives pretty much the same information as the eigenvalue decomposition, and has the following form:\n",
    "\n",
    "$$\n",
    "A = UDV^T\n",
    "$$\n",
    "\n",
    "If $A$ is a $m\\times n$ matrix, then $U$ is a $m\\times m$ **left-singular matrix**, $D$ is a $m\\times n$ diagonal matrix with **singular values**, and $V$ is a $n\\times n$ **right-singular matrix**.\n",
    "\n",
    "$$\n",
    "\\begin{aligned}\n",
    "U &\\leftarrow \\text{eigen vectors of } AA^T \\\\\n",
    "V &\\leftarrow \\text{eigen vectors of } A^TA \\\\\n",
    "D &\\leftarrow \\text{square roots of the eigenvalues of } AA^T \\text{or } A^TA\n",
    "\\end{aligned}\n",
    "$$\n",
    "\n",
    "Notice that if $A$ is a square matrix, the result of the SVD will be equivalent to the eigenvalue decomposition.\n",
    "\n",
    "Geometrically this can be interpreted as converting a transformation matrix $A$ into several transformation matrices which, if applied consecutively achieve the same result as $A$."
   ]
  },
  {
   "cell_type": "code",
   "execution_count": 70,
   "id": "16eeb026",
   "metadata": {},
   "outputs": [],
   "source": [
    "# Create the transformations\n",
    "U, d, Vt = np.linalg.svd(A)\n",
    "D = np.diag(d)"
   ]
  },
  {
   "cell_type": "code",
   "execution_count": 75,
   "id": "3ef0695c",
   "metadata": {},
   "outputs": [],
   "source": [
    "# Create the data points\n",
    "delta = 0.1\n",
    "points = np.array([(row, col) for row in np.arange(-1.0, 1.0+delta, delta) for col in np.arange(-1.0, 1.0+delta, delta) if (row * row + col * col) <= 1.0])"
   ]
  },
  {
   "cell_type": "code",
   "execution_count": 82,
   "id": "1ea78f69",
   "metadata": {},
   "outputs": [
    {
     "data": {
      "image/png": "[encoded data removed]",
      "text/plain": [
       "<Figure size 1200x625 with 2 Axes>"
      ]
     },
     "metadata": {},
     "output_type": "display_data"
    }
   ],
   "source": [
    "fig, ax = plt.subplots(1, 2, figsize=(12, 6.25), sharex=True, sharey=True)\n",
    "for a in ax:\n",
    "    a.axis([-3, 3, -3, 3])\n",
    "    a.grid()\n",
    "ax[0].scatter(points[:, 0], points[:, 1])\n",
    "\n",
    "\n",
    "plt.tight_layout()"
   ]
  },
  {
   "cell_type": "code",
   "execution_count": null,
   "id": "9364c45b",
   "metadata": {},
   "outputs": [],
   "source": []
  }
 ],
 "metadata": {
  "kernelspec": {
   "display_name": "Python 3",
   "language": "python",
   "name": "python3"
  },
  "language_info": {
   "codemirror_mode": {
    "name": "ipython",
    "version": 3
   },
   "file_extension": ".py",
   "mimetype": "text/x-python",
   "name": "python",
   "nbconvert_exporter": "python",
   "pygments_lexer": "ipython3",
   "version": "3.8.8"
  }
 },
 "nbformat": 4,
 "nbformat_minor": 5
}
